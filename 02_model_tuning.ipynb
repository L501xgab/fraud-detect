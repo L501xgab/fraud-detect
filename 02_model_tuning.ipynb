{
 "cells": [
  {
   "cell_type": "code",
   "execution_count": null,
   "id": "667e3b85",
   "metadata": {},
   "outputs": [],
   "source": [
    "%%time\n",
    "\n",
    "## DATA IMPORT ## \n",
    "## For this project the data from https://www.kaggle.com/c/ieee-fraud-detection/data has been used. ##\n",
    "\n",
    "data_path = \"./data/\"\n",
    "\n",
    "train = pd.read_csv(data_path + \"train_processed.csv\")\n",
    "test = pd.read_csv(data_path + \"test_processed.csv\")\n",
    "\n",
    "print('train_set shape is: {}'.format(train.shape))\n",
    "print('test_set shape is: {}'.format(test.shape))"
   ]
  },
  {
   "cell_type": "code",
   "execution_count": null,
   "id": "ead6fd64",
   "metadata": {},
   "outputs": [],
   "source": [
    "X = train.copy()\n",
    "y = train['isFraud'].copy()\n",
    "X = X.drop(['isFraud'], axis=1)"
   ]
  },
  {
   "cell_type": "code",
   "execution_count": null,
   "id": "66579b2e",
   "metadata": {},
   "outputs": [],
   "source": [
    "import xgboost as xgb\n",
    "\n",
    "data_dmatrix = xgb.DMatrix(data=X,label=y) # define data_dmatrix\n",
    "\n",
    "from sklearn.model_selection import train_test_split\n",
    "\n",
    "X_train, X_test, y_train, y_test = train_test_split(X, y, test_size=0.2, random_state=17, shuffle=False)\n",
    "\n",
    "from sklearn.impute import SimpleImputer\n",
    "\n",
    "# Create our imputer to replace missing values with the mean e.g.\n",
    "imp = SimpleImputer(missing_values=np.nan, strategy='mean')\n",
    "imp = imp.fit(X_train)\n",
    "\n",
    "# Impute our data, then train\n",
    "X_train_imp = imp.transform(X_train)\n",
    "\n",
    "from imblearn.under_sampling import RandomUnderSampler\n",
    "from collections import Counter\n",
    "\n",
    "# Undersample the train dataset\n",
    "ros = RandomUnderSampler(random_state=17)\n",
    "\n",
    "X_train, y_train = ros.fit_resample(X_train_imp, y_train)\n",
    "print('Resampled dataset shape {}'.format(Counter(y_train)))\n",
    "\n"
   ]
  },
  {
   "cell_type": "code",
   "execution_count": null,
   "id": "d839db50",
   "metadata": {},
   "outputs": [],
   "source": [
    "# UNDERSAMPLING APPROACH - XGBOOST\n",
    "\n",
    "from xgboost import XGBClassifier\n",
    "\n",
    "\n",
    "# declare parameters\n",
    "params = {\n",
    "    'objective':'binary:logistic',\n",
    "    'max_depth': 4,\n",
    "    'alpha': 10,\n",
    "    'learning_rate': 1.0,\n",
    "    'n_estimators':100\n",
    "}         \n",
    "           \n",
    "          \n",
    "# instantiate the classifier \n",
    "xgb_clf = XGBClassifier(**params)\n",
    "\n",
    "\n",
    "# fit the classifier to the training data\n",
    "xgb_clf.fit(X_train, y_train)\n",
    "y_pred = xgb_clf.predict(X_test)\n",
    "\n",
    "from sklearn.metrics import accuracy_score\n",
    "\n",
    "print('XGBoost model accuracy score: {0:0.4f}'. format(accuracy_score(y_test, y_pred)))"
   ]
  },
  {
   "cell_type": "code",
   "execution_count": null,
   "id": "38d5707f",
   "metadata": {},
   "outputs": [],
   "source": [
    "from xgboost import cv\n",
    "\n",
    "params = {\n",
    "    \"objective\":\"binary:logistic\",\n",
    "    'colsample_bytree': 0.3,\n",
    "    'learning_rate': 0.1,\n",
    "    'max_depth': 5, \n",
    "    'alpha': 10}\n",
    "\n",
    "xgb_cv = cv(dtrain=data_dmatrix,\n",
    "            params=params, \n",
    "            nfold=3,\n",
    "            num_boost_round=50, \n",
    "            early_stopping_rounds=10, \n",
    "            metrics=\"auc\", \n",
    "            as_pandas=True,\n",
    "            seed=37)"
   ]
  },
  {
   "cell_type": "code",
   "execution_count": null,
   "id": "8da4fce2",
   "metadata": {},
   "outputs": [],
   "source": [
    "xgb_cv.head()"
   ]
  }
 ],
 "metadata": {
  "kernelspec": {
   "display_name": "Python 3",
   "language": "python",
   "name": "python3"
  },
  "language_info": {
   "codemirror_mode": {
    "name": "ipython",
    "version": 3
   },
   "file_extension": ".py",
   "mimetype": "text/x-python",
   "name": "python",
   "nbconvert_exporter": "python",
   "pygments_lexer": "ipython3",
   "version": "3.8.8"
  }
 },
 "nbformat": 4,
 "nbformat_minor": 5
}
